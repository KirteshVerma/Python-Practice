{
  "cells": [
    {
      "cell_type": "markdown",
      "metadata": {
        "id": "view-in-github",
        "colab_type": "text"
      },
      "source": [
        "<a href=\"https://colab.research.google.com/github/KirteshVerma/Python-Practice/blob/main/Python_Practice_Questions_.ipynb\" target=\"_parent\"><img src=\"https://colab.research.google.com/assets/colab-badge.svg\" alt=\"Open In Colab\"/></a>"
      ]
    },
    {
      "cell_type": "markdown",
      "metadata": {
        "id": "fq5kjM3x0_yz"
      },
      "source": [
        "## **Prime Number**"
      ]
    },
    {
      "cell_type": "code",
      "execution_count": null,
      "metadata": {
        "colab": {
          "base_uri": "https://localhost:8080/"
        },
        "id": "A2i6Q1AfvFQc",
        "outputId": "66aa71bc-5e79-4c33-ce15-302fa43f75dd"
      },
      "outputs": [
        {
          "name": "stdout",
          "output_type": "stream",
          "text": [
            "2 3 5 7 11 13 17 19 23 29 31 37 41 43 47 53 59 61 67 71 73 79 83 "
          ]
        }
      ],
      "source": [
        "# Python programm to display all the prime numbers withing an interval\n",
        "\n",
        "lower = 2\n",
        "upper = 88\n",
        "\n",
        "for i in range(lower, upper):\n",
        "  if i>1:\n",
        "    for j in range(2,i):\n",
        "      if i%j ==0:\n",
        "        break\n",
        "    else:\n",
        "      print(i, end = ' ')\n",
        "\n",
        "\n",
        "\n"
      ]
    },
    {
      "cell_type": "code",
      "execution_count": null,
      "metadata": {
        "colab": {
          "base_uri": "https://localhost:8080/"
        },
        "id": "O_5DWOCpzum9",
        "outputId": "24d5597b-c6b2-4228-f9f2-9290664651c4"
      },
      "outputs": [
        {
          "name": "stdout",
          "output_type": "stream",
          "text": [
            "2\n",
            "22\n",
            "The total number of prime number that exist between the given range are:  8\n"
          ]
        }
      ],
      "source": [
        "# to print the total numbers of prime number within a range\n",
        "lower = int(input())\n",
        "upper = int(input())\n",
        "listt = []\n",
        "\n",
        "for i in range(lower, upper):\n",
        "  if i>1:\n",
        "    for j in range(2,i):\n",
        "      if i%j ==0:\n",
        "        break\n",
        "    else:\n",
        "      listt.append(i)\n",
        "print('The total number of prime number that exist between the given range are:',len(listt))\n"
      ]
    },
    {
      "cell_type": "code",
      "execution_count": null,
      "metadata": {
        "colab": {
          "base_uri": "https://localhost:8080/"
        },
        "id": "X17lMz-1zupq",
        "outputId": "08dc525a-881e-4941-bd1d-57246597ca06"
      },
      "outputs": [
        {
          "name": "stdout",
          "output_type": "stream",
          "text": [
            "234 is not a Prime Number\n"
          ]
        }
      ],
      "source": [
        "# programm to tell whether the number is prime or not\n",
        "\n",
        "a = 234\n",
        "\n",
        "if a > 1:\n",
        "  for i in range(2,a):\n",
        "    if a%i==0:\n",
        "      print('{} is not a Prime Number'.format(a))\n",
        "      break\n",
        "    else:\n",
        "      print('{a} is a Prime Number'.format(a))\n",
        "else:\n",
        "  print('{} is not a Prime number'.format(a))"
      ]
    },
    {
      "cell_type": "markdown",
      "metadata": {
        "id": "pP5ItLw-16e5"
      },
      "source": [
        "## **Factorial**"
      ]
    },
    {
      "cell_type": "code",
      "execution_count": null,
      "metadata": {
        "colab": {
          "base_uri": "https://localhost:8080/"
        },
        "id": "b-0Xv0ADzusm",
        "outputId": "795c7985-65dd-472b-8a1f-647f3ba3418a"
      },
      "outputs": [
        {
          "name": "stdout",
          "output_type": "stream",
          "text": [
            "The factorial of 5 is 120\n"
          ]
        }
      ],
      "source": [
        "# print the factorial of a number\n",
        "num = 5\n",
        "factorial = 1\n",
        "\n",
        "if num<0:\n",
        "  print('factorial of negative number is not defined')\n",
        "\n",
        "elif num==0:\n",
        "  print('factorial of 0 is 1')\n",
        "\n",
        "else:\n",
        "\n",
        "  for i in range(1,num+1):\n",
        "    factorial = factorial*i\n",
        "print(f'The factorial of {num} is {factorial}')"
      ]
    },
    {
      "cell_type": "code",
      "execution_count": null,
      "metadata": {
        "colab": {
          "base_uri": "https://localhost:8080/"
        },
        "id": "EKyhDAUpzuyD",
        "outputId": "ceec3168-95ec-43ab-a656-23f44b96b5ba"
      },
      "outputs": [
        {
          "name": "stdout",
          "output_type": "stream",
          "text": [
            "24\n"
          ]
        }
      ],
      "source": [
        "# Printing the factorial of the number using recursive method\n",
        "def factorial(x):\n",
        "    \"\"\"This is a recursive function\n",
        "    to find the factorial of an integer\"\"\"\n",
        "\n",
        "    if x == 1:\n",
        "        return 1\n",
        "    else:\n",
        "        # recursive call to the function\n",
        "        return (x * factorial(x-1))\n",
        "\n",
        "print(factorial(4))"
      ]
    },
    {
      "cell_type": "code",
      "execution_count": null,
      "metadata": {
        "id": "XcHKZU3Ezu0w"
      },
      "outputs": [],
      "source": []
    },
    {
      "cell_type": "markdown",
      "metadata": {
        "id": "Atmtu7TMegBT"
      },
      "source": [
        "## **Character Count**"
      ]
    },
    {
      "cell_type": "code",
      "execution_count": null,
      "metadata": {
        "colab": {
          "base_uri": "https://localhost:8080/"
        },
        "id": "tME_cb18eeb4",
        "outputId": "4db10def-9f3a-4587-f2e6-c4659852f43c"
      },
      "outputs": [
        {
          "name": "stdout",
          "output_type": "stream",
          "text": [
            "{'g': 2, 'o': 3, 'l': 1, 'e': 1, '.': 1, 'c': 1, 'm': 1}\n"
          ]
        }
      ],
      "source": [
        "a = 'google.com'\n",
        "d = {}\n",
        "for i in a: \n",
        "  if i in d:\n",
        "    d[i] = d[i]+1\n",
        "  else:\n",
        "    d[i]=1\n",
        "print(d)\n"
      ]
    },
    {
      "cell_type": "markdown",
      "metadata": {
        "id": "orEuYqm5LrIu"
      },
      "source": [
        "## **Reversed Number**"
      ]
    },
    {
      "cell_type": "code",
      "execution_count": null,
      "metadata": {
        "colab": {
          "base_uri": "https://localhost:8080/"
        },
        "id": "UIt9WqMaeeot",
        "outputId": "8dc02338-41d9-448a-e890-dc9a16e2931d"
      },
      "outputs": [
        {
          "name": "stdout",
          "output_type": "stream",
          "text": [
            "8932\n"
          ]
        }
      ],
      "source": [
        "# Reversed Number\n",
        "\n",
        "#using str \n",
        "a= 2398\n",
        "\n",
        "b = int(str(a)[::-1])\n",
        "print(b)\n",
        "\n"
      ]
    },
    {
      "cell_type": "markdown",
      "source": [
        "## **Reverse text in a String**"
      ],
      "metadata": {
        "id": "UncVHvwSL5Ga"
      }
    },
    {
      "cell_type": "code",
      "source": [
        "# reversing the words in a string\n",
        "text = 'I love coding and want to get better at it!'\n",
        "\n",
        "a = text.split()\n",
        "a = a[::-1]\n",
        "print(a)\n",
        "l = []\n",
        "for i in a:\n",
        "  l.append(i)\n",
        "print(\" \".join(l))\n",
        "\n",
        "# for i in a:\n",
        "  "
      ],
      "metadata": {
        "colab": {
          "base_uri": "https://localhost:8080/"
        },
        "id": "7sZUSfgOL8Wn",
        "outputId": "cfa6934f-ce49-437c-c096-4dd7f519a500"
      },
      "execution_count": 5,
      "outputs": [
        {
          "output_type": "stream",
          "name": "stdout",
          "text": [
            "['it!', 'at', 'better', 'get', 'to', 'want', 'and', 'coding', 'love', 'I']\n",
            "it! at better get to want and coding love I\n"
          ]
        }
      ]
    },
    {
      "cell_type": "code",
      "source": [
        "# reversing each letter of the word in the string\n",
        "\n"
      ],
      "metadata": {
        "id": "ZhTgJ7izM30l"
      },
      "execution_count": null,
      "outputs": []
    },
    {
      "cell_type": "code",
      "source": [],
      "metadata": {
        "id": "DGS8NVxQL8aE"
      },
      "execution_count": null,
      "outputs": []
    },
    {
      "cell_type": "code",
      "execution_count": null,
      "metadata": {
        "colab": {
          "base_uri": "https://localhost:8080/"
        },
        "id": "yh37fsDTeesA",
        "outputId": "cdede2c5-fcff-4d7c-a7f7-f9ff246fc628"
      },
      "outputs": [
        {
          "name": "stdout",
          "output_type": "stream",
          "text": [
            "8932\n"
          ]
        }
      ],
      "source": [
        "# using while \n",
        "\n",
        "a = 2398\n",
        "reversed_number = 0\n",
        "\n",
        "while a>0:\n",
        "  digit = a%10 \n",
        "  reversed_number = reversed_number*10 + digit\n",
        "  a = a//10\n",
        "\n",
        "print(sum)"
      ]
    },
    {
      "cell_type": "markdown",
      "metadata": {
        "id": "CleCVvVOLv5H"
      },
      "source": [
        "## **Armstrong Number**"
      ]
    },
    {
      "cell_type": "code",
      "execution_count": null,
      "metadata": {
        "colab": {
          "base_uri": "https://localhost:8080/"
        },
        "id": "46hOyt6CvWmt",
        "outputId": "52560763-0a92-4a66-b16e-7aebdc98f196"
      },
      "outputs": [
        {
          "name": "stdout",
          "output_type": "stream",
          "text": [
            "The number 153 is an Amrstrong Number\n"
          ]
        }
      ],
      "source": [
        "# write a code which tells whether a number is an armstrong number or not\n",
        "\n",
        "a = 153\n",
        "tff = 0\n",
        "num_len = len(str(a))\n",
        "a_copy  = a\n",
        "\n",
        "while a>0:\n",
        "  digit = a%10\n",
        "  tff = digit**num_len+ tff\n",
        "  a = a//10\n",
        "\n",
        "if a_copy == tff:\n",
        "  print('The number {} is an Amrstrong Number'.format(a_copy))\n",
        "\n",
        "else:\n",
        "  print('The given number {} is not an Armstrong Number'.format(a_copy))\n",
        "\n",
        "\n",
        "\n",
        "\n",
        "\n"
      ]
    },
    {
      "cell_type": "code",
      "execution_count": null,
      "metadata": {
        "id": "8Ec5UblbvWqc"
      },
      "outputs": [],
      "source": []
    },
    {
      "cell_type": "markdown",
      "metadata": {
        "id": "CWj88iM9XegV"
      },
      "source": [
        "## Most Frequent Element "
      ]
    },
    {
      "cell_type": "code",
      "execution_count": null,
      "metadata": {
        "colab": {
          "base_uri": "https://localhost:8080/"
        },
        "id": "JCbK8f3avWus",
        "outputId": "d6074e95-f59e-4893-af9d-40104f50bd8c"
      },
      "outputs": [
        {
          "name": "stdout",
          "output_type": "stream",
          "text": [
            "The element occuring maximum time is 1 and its at index 2\n"
          ]
        }
      ],
      "source": [
        "# printing the element within the list with max frequency\n",
        "List = [23,2342,1,32,23,21,11,12,1,1,1,12,3,432,5,3,34,435,66,2323,1]\n",
        "counter = 0\n",
        "for i in List:\n",
        "        curr_frequency = List.count(i)\n",
        "        if(curr_frequency> counter):\n",
        "            counter = curr_frequency\n",
        "            num = i\n",
        "print(f'The element occuring maximum time is {num} and its at index {List.index(num)}')\n"
      ]
    },
    {
      "cell_type": "code",
      "execution_count": null,
      "metadata": {
        "colab": {
          "base_uri": "https://localhost:8080/"
        },
        "id": "hbJsO8hEXsGw",
        "outputId": "ce4981e8-14c3-4a2f-f1e3-f7bc6c057c2a"
      },
      "outputs": [
        {
          "name": "stdout",
          "output_type": "stream",
          "text": [
            "{23: 2, 2342: 1, 1: 5, 32: 1, 21: 1, 11: 1, 12: 2, 3: 2, 432: 1, 5: 1, 34: 1, 435: 1, 66: 1, 2323: 1}\n"
          ]
        }
      ],
      "source": [
        "# Couring the occurence of each element in a list\n",
        "List2 = [23,2342,1,32,23,21,11,12,1,1,1,12,3,432,5,3,34,435,66,2323,1]\n",
        "\n",
        "dictionary = {}\n",
        "for i in List2:\n",
        "  if i in dictionary: \n",
        "    dictionary[i] +=1\n",
        "  else:\n",
        "    dictionary[i] = 1\n",
        "print(dictionary)\n",
        "\n",
        "    \n",
        "  \n",
        "\n"
      ]
    },
    {
      "cell_type": "markdown",
      "metadata": {
        "id": "-0IQKZimbOKY"
      },
      "source": [
        "## Average"
      ]
    },
    {
      "cell_type": "code",
      "execution_count": null,
      "metadata": {
        "colab": {
          "base_uri": "https://localhost:8080/"
        },
        "id": "vPDH-d85XsJf",
        "outputId": "70fa7d94-d48e-4c71-d8df-d5bc5cb05703"
      },
      "outputs": [
        {
          "name": "stdout",
          "output_type": "stream",
          "text": [
            "Enter the number of elements to take average of: 3\n",
            "Enter the number: 1\n",
            "Enter the number: 10\n",
            "Enter the number: 100\n",
            "The average of the numbers is  37.0\n"
          ]
        }
      ],
      "source": [
        "# printing the averge of the numbers \n",
        "n = int(input('Enter the number of elements to take average of: '))\n",
        "\n",
        "l = []\n",
        "sum = 0\n",
        "\n",
        "for i in range(1,n+1):\n",
        "  k = int(input('Enter the number: '))\n",
        "  l.append(k)\n",
        "  \n",
        "for i in l:\n",
        "  sum = i+ sum\n",
        "avg = sum / n\n",
        "print(f'The average of the numbers is ', avg)"
      ]
    },
    {
      "cell_type": "markdown",
      "metadata": {
        "id": "udjvyGpodsUh"
      },
      "source": [
        "## Mode"
      ]
    },
    {
      "cell_type": "code",
      "execution_count": null,
      "metadata": {
        "colab": {
          "background_save": true
        },
        "id": "fwjKRZX6XsMR"
      },
      "outputs": [],
      "source": [
        "\n",
        "\n",
        "\n",
        "\n",
        "\n",
        "\n",
        "\n"
      ]
    },
    {
      "cell_type": "code",
      "execution_count": null,
      "metadata": {
        "id": "3DRIE96LduSl"
      },
      "outputs": [],
      "source": []
    },
    {
      "cell_type": "markdown",
      "source": [
        "## **Fibonacci Series**"
      ],
      "metadata": {
        "id": "CnqQkFXmbUjk"
      }
    },
    {
      "cell_type": "code",
      "execution_count": null,
      "metadata": {
        "id": "GVaFZ5mHduXR",
        "colab": {
          "base_uri": "https://localhost:8080/"
        },
        "outputId": "f27d554a-99d1-41cd-a701-88652722ddc8"
      },
      "outputs": [
        {
          "output_type": "stream",
          "name": "stdout",
          "text": [
            "21\n"
          ]
        }
      ],
      "source": [
        "# print the function which returns the fibonacci series\n",
        "def fibonacci(n):\n",
        "    a = 0\n",
        "    b = 1\n",
        "     \n",
        "    # Check is n is less\n",
        "    # than 0\n",
        "    if n < 0:\n",
        "        print(\"Incorrect input\")\n",
        "         \n",
        "    # Check is n is equal\n",
        "    # to 0\n",
        "    elif n == 0:\n",
        "        return 0\n",
        "       \n",
        "    # Check if n is equal to 1\n",
        "    elif n == 1:\n",
        "        return b\n",
        "    else:\n",
        "        for i in range(1, n):\n",
        "            c = a + b\n",
        "            a = b\n",
        "            b = c\n",
        "        return b\n",
        "\n",
        "print(fibonacci(8))"
      ]
    },
    {
      "cell_type": "code",
      "execution_count": null,
      "metadata": {
        "id": "oUSarwgxdua8",
        "colab": {
          "base_uri": "https://localhost:8080/"
        },
        "outputId": "5f461c90-f36c-48bd-f6b2-3d5389eab170"
      },
      "outputs": [
        {
          "output_type": "stream",
          "name": "stdout",
          "text": [
            "fib series: 0 1 1 2 3 5 8 13 21 34 55 89 \n"
          ]
        }
      ],
      "source": [
        "# print fibonacci series upto a number\n",
        "num = 12\n",
        "a = 0\n",
        "b = 1\n",
        "print('fib series:', a, b ,end = ' ')\n",
        "\n",
        "for i in range(2, num):\n",
        "  c = a+b\n",
        "  a = b\n",
        "  b = c\n",
        "  print(c, end = ' ')\n",
        "print()"
      ]
    },
    {
      "cell_type": "code",
      "execution_count": null,
      "metadata": {
        "id": "EXuy11v8duek"
      },
      "outputs": [],
      "source": [
        "# recrusive method\n",
        "def fibonacciSeries(i):\n",
        "  if i <= 1:\n",
        "    return i\n",
        "  else:\n",
        "    return (fibonacciSeries(i - 1) + fibonacciSeries(i - 2))"
      ]
    },
    {
      "cell_type": "code",
      "execution_count": null,
      "metadata": {
        "id": "mzN9WN4adukh"
      },
      "outputs": [],
      "source": [
        "\n"
      ]
    },
    {
      "cell_type": "code",
      "execution_count": null,
      "metadata": {
        "id": "J2uJfTNrdusX"
      },
      "outputs": [],
      "source": []
    },
    {
      "cell_type": "code",
      "execution_count": null,
      "metadata": {
        "id": "oy0WWIRZduv7"
      },
      "outputs": [],
      "source": []
    },
    {
      "cell_type": "code",
      "execution_count": null,
      "metadata": {
        "id": "gyuDsRZBduzj"
      },
      "outputs": [],
      "source": []
    },
    {
      "cell_type": "code",
      "execution_count": null,
      "metadata": {
        "id": "NChghQLkdu3B"
      },
      "outputs": [],
      "source": []
    }
  ],
  "metadata": {
    "colab": {
      "collapsed_sections": [],
      "provenance": [],
      "authorship_tag": "ABX9TyMACXgFePiQ9WZGOT+j2nAP",
      "include_colab_link": true
    },
    "kernelspec": {
      "display_name": "Python 3",
      "name": "python3"
    },
    "language_info": {
      "name": "python"
    }
  },
  "nbformat": 4,
  "nbformat_minor": 0
}