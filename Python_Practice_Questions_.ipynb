{
  "nbformat": 4,
  "nbformat_minor": 0,
  "metadata": {
    "colab": {
      "provenance": [],
      "collapsed_sections": [],
      "authorship_tag": "ABX9TyPXWtjMJjgc0tm2RmKWac3j",
      "include_colab_link": true
    },
    "kernelspec": {
      "name": "python3",
      "display_name": "Python 3"
    },
    "language_info": {
      "name": "python"
    }
  },
  "cells": [
    {
      "cell_type": "markdown",
      "metadata": {
        "id": "view-in-github",
        "colab_type": "text"
      },
      "source": [
        "<a href=\"https://colab.research.google.com/github/KirteshVerma/Python-Practice/blob/main/Python_Practice_Questions_.ipynb\" target=\"_parent\"><img src=\"https://colab.research.google.com/assets/colab-badge.svg\" alt=\"Open In Colab\"/></a>"
      ]
    },
    {
      "cell_type": "markdown",
      "source": [
        "## **Prime Number**"
      ],
      "metadata": {
        "id": "fq5kjM3x0_yz"
      }
    },
    {
      "cell_type": "code",
      "execution_count": null,
      "metadata": {
        "id": "A2i6Q1AfvFQc",
        "colab": {
          "base_uri": "https://localhost:8080/"
        },
        "outputId": "66aa71bc-5e79-4c33-ce15-302fa43f75dd"
      },
      "outputs": [
        {
          "output_type": "stream",
          "name": "stdout",
          "text": [
            "2 3 5 7 11 13 17 19 23 29 31 37 41 43 47 53 59 61 67 71 73 79 83 "
          ]
        }
      ],
      "source": [
        "# Python programm to display all the prime numbers withing an interval\n",
        "\n",
        "lower = 2\n",
        "upper = 88\n",
        "\n",
        "for i in range(lower, upper):\n",
        "  if i>1:\n",
        "    for j in range(2,i):\n",
        "      if i%j ==0:\n",
        "        break\n",
        "    else:\n",
        "      print(i, end = ' ')\n",
        "\n",
        "\n",
        "\n"
      ]
    },
    {
      "cell_type": "code",
      "source": [
        "# to print the total numbers of prime number within a range\n",
        "lower = int(input())\n",
        "upper = int(input())\n",
        "listt = []\n",
        "\n",
        "for i in range(lower, upper):\n",
        "  if i>1:\n",
        "    for j in range(2,i):\n",
        "      if i%j ==0:\n",
        "        break\n",
        "    else:\n",
        "      listt.append(i)\n",
        "print('The total number of prime number that exist between the given range are:',len(listt))\n"
      ],
      "metadata": {
        "colab": {
          "base_uri": "https://localhost:8080/"
        },
        "id": "O_5DWOCpzum9",
        "outputId": "24d5597b-c6b2-4228-f9f2-9290664651c4"
      },
      "execution_count": null,
      "outputs": [
        {
          "output_type": "stream",
          "name": "stdout",
          "text": [
            "2\n",
            "22\n",
            "The total number of prime number that exist between the given range are:  8\n"
          ]
        }
      ]
    },
    {
      "cell_type": "code",
      "source": [
        "# programm to tell whether the number is prime or not\n",
        "\n",
        "a = 234\n",
        "\n",
        "if a > 1:\n",
        "  for i in range(2,a):\n",
        "    if a%i==0:\n",
        "      print('{} is not a Prime Number'.format(a))\n",
        "      break\n",
        "    else:\n",
        "      print('{a} is a Prime Number'.format(a))\n",
        "else:\n",
        "  print('{} is not a Prime number'.format(a))"
      ],
      "metadata": {
        "colab": {
          "base_uri": "https://localhost:8080/"
        },
        "id": "X17lMz-1zupq",
        "outputId": "08dc525a-881e-4941-bd1d-57246597ca06"
      },
      "execution_count": null,
      "outputs": [
        {
          "output_type": "stream",
          "name": "stdout",
          "text": [
            "234 is not a Prime Number\n"
          ]
        }
      ]
    },
    {
      "cell_type": "markdown",
      "source": [
        "## **Factorial**"
      ],
      "metadata": {
        "id": "pP5ItLw-16e5"
      }
    },
    {
      "cell_type": "code",
      "source": [
        "# print the factorial of a number\n",
        "num = 5\n",
        "factorial = 1\n",
        "\n",
        "if num<0:\n",
        "  print('factorial of negative number is not defined')\n",
        "\n",
        "elif num==0:\n",
        "  print('factorial of 0 is 1')\n",
        "\n",
        "else:\n",
        "\n",
        "  for i in range(1,num+1):\n",
        "    factorial = factorial*i\n",
        "print(f'The factorial of {num} is {factorial}')"
      ],
      "metadata": {
        "id": "b-0Xv0ADzusm",
        "colab": {
          "base_uri": "https://localhost:8080/"
        },
        "outputId": "795c7985-65dd-472b-8a1f-647f3ba3418a"
      },
      "execution_count": null,
      "outputs": [
        {
          "output_type": "stream",
          "name": "stdout",
          "text": [
            "The factorial of 5 is 120\n"
          ]
        }
      ]
    },
    {
      "cell_type": "code",
      "source": [
        "# Printing the factorial of the number using recursive method\n",
        "def factorial(x):\n",
        "    \"\"\"This is a recursive function\n",
        "    to find the factorial of an integer\"\"\"\n",
        "\n",
        "    if x == 1:\n",
        "        return 1\n",
        "    else:\n",
        "        # recursive call to the function\n",
        "        return (x * factorial(x-1))\n",
        "\n",
        "print(factorial(4))"
      ],
      "metadata": {
        "id": "EKyhDAUpzuyD",
        "colab": {
          "base_uri": "https://localhost:8080/"
        },
        "outputId": "ceec3168-95ec-43ab-a656-23f44b96b5ba"
      },
      "execution_count": null,
      "outputs": [
        {
          "output_type": "stream",
          "name": "stdout",
          "text": [
            "24\n"
          ]
        }
      ]
    },
    {
      "cell_type": "code",
      "source": [],
      "metadata": {
        "id": "XcHKZU3Ezu0w"
      },
      "execution_count": null,
      "outputs": []
    },
    {
      "cell_type": "markdown",
      "source": [
        "## **Character Count**"
      ],
      "metadata": {
        "id": "Atmtu7TMegBT"
      }
    },
    {
      "cell_type": "code",
      "source": [
        "a = 'google.com'\n",
        "d = {}\n",
        "for i in a: \n",
        "  if i in d:\n",
        "    d[i] = d[i]+1\n",
        "  else:\n",
        "    d[i]=1\n",
        "print(d)\n"
      ],
      "metadata": {
        "colab": {
          "base_uri": "https://localhost:8080/"
        },
        "id": "tME_cb18eeb4",
        "outputId": "4db10def-9f3a-4587-f2e6-c4659852f43c"
      },
      "execution_count": null,
      "outputs": [
        {
          "output_type": "stream",
          "name": "stdout",
          "text": [
            "{'g': 2, 'o': 3, 'l': 1, 'e': 1, '.': 1, 'c': 1, 'm': 1}\n"
          ]
        }
      ]
    },
    {
      "cell_type": "markdown",
      "source": [
        "## **Reversed Number**"
      ],
      "metadata": {
        "id": "orEuYqm5LrIu"
      }
    },
    {
      "cell_type": "code",
      "source": [
        "# Reversed Number\n",
        "\n",
        "#using str \n",
        "a= 2398\n",
        "\n",
        "b = int(str(a)[::-1])\n",
        "print(b)\n",
        "\n"
      ],
      "metadata": {
        "colab": {
          "base_uri": "https://localhost:8080/"
        },
        "id": "UIt9WqMaeeot",
        "outputId": "8dc02338-41d9-448a-e890-dc9a16e2931d"
      },
      "execution_count": null,
      "outputs": [
        {
          "output_type": "stream",
          "name": "stdout",
          "text": [
            "8932\n"
          ]
        }
      ]
    },
    {
      "cell_type": "code",
      "source": [
        "# using while \n",
        "\n",
        "a = 2398\n",
        "reversed_number = 0\n",
        "\n",
        "while a>0:\n",
        "  digit = a%10 \n",
        "  reversed_number = reversed_number*10 + digit\n",
        "  a = a//10\n",
        "\n",
        "print(sum)"
      ],
      "metadata": {
        "colab": {
          "base_uri": "https://localhost:8080/"
        },
        "id": "yh37fsDTeesA",
        "outputId": "cdede2c5-fcff-4d7c-a7f7-f9ff246fc628"
      },
      "execution_count": null,
      "outputs": [
        {
          "output_type": "stream",
          "name": "stdout",
          "text": [
            "8932\n"
          ]
        }
      ]
    },
    {
      "cell_type": "markdown",
      "source": [
        "## **Armstrong Number**"
      ],
      "metadata": {
        "id": "CleCVvVOLv5H"
      }
    },
    {
      "cell_type": "code",
      "source": [
        "# write a code which tells whether a number is an armstrong number or not\n",
        "\n",
        "a = 153\n",
        "tff = 0\n",
        "num_len = len(str(a))\n",
        "a_copy  = a\n",
        "\n",
        "while a>0:\n",
        "  digit = a%10\n",
        "  tff = digit**num_len+ tff\n",
        "  a = a//10\n",
        "\n",
        "if a_copy == tff:\n",
        "  print('The number {} is an Amrstrong Number'.format(a_copy))\n",
        "\n",
        "else:\n",
        "  print('The given number {} is not an Armstrong Number'.format(a_copy))\n",
        "\n",
        "\n",
        "\n",
        "\n",
        "\n"
      ],
      "metadata": {
        "id": "46hOyt6CvWmt",
        "colab": {
          "base_uri": "https://localhost:8080/"
        },
        "outputId": "52560763-0a92-4a66-b16e-7aebdc98f196"
      },
      "execution_count": null,
      "outputs": [
        {
          "output_type": "stream",
          "name": "stdout",
          "text": [
            "The number 153 is an Amrstrong Number\n"
          ]
        }
      ]
    },
    {
      "cell_type": "code",
      "source": [],
      "metadata": {
        "id": "8Ec5UblbvWqc"
      },
      "execution_count": null,
      "outputs": []
    },
    {
      "cell_type": "markdown",
      "source": [
        "## Most Frequent Element "
      ],
      "metadata": {
        "id": "CWj88iM9XegV"
      }
    },
    {
      "cell_type": "code",
      "source": [
        "List = [23,2342,1,32,23,21,11,12,1,1,1,12,3,432,5,3,34,435,66,2323,1]\n",
        "counter = 0\n",
        "for i in List:\n",
        "        curr_frequency = List.count(i)\n",
        "        if(curr_frequency> counter):\n",
        "            counter = curr_frequency\n",
        "            num = i\n",
        "print(f'The element occuring maximum time is {num} and its at index {List.index(num)}')\n"
      ],
      "metadata": {
        "id": "JCbK8f3avWus",
        "colab": {
          "base_uri": "https://localhost:8080/"
        },
        "outputId": "d6074e95-f59e-4893-af9d-40104f50bd8c"
      },
      "execution_count": 18,
      "outputs": [
        {
          "output_type": "stream",
          "name": "stdout",
          "text": [
            "The element occuring maximum time is 1 and its at index 2\n"
          ]
        }
      ]
    },
    {
      "cell_type": "code",
      "source": [
        "# Couring the occurence of each element in a list\n",
        "List2 = [23,2342,1,32,23,21,11,12,1,1,1,12,3,432,5,3,34,435,66,2323,1]\n",
        "\n",
        "dictionary = {}\n",
        "for i in List2:\n",
        "  if i in dictionary: \n",
        "    dictionary[i] +=1\n",
        "  else:\n",
        "    dictionary[i] = 1\n",
        "print(dictionary)\n",
        "\n",
        "    \n",
        "  \n",
        "\n"
      ],
      "metadata": {
        "colab": {
          "base_uri": "https://localhost:8080/"
        },
        "id": "hbJsO8hEXsGw",
        "outputId": "ce4981e8-14c3-4a2f-f1e3-f7bc6c057c2a"
      },
      "execution_count": 2,
      "outputs": [
        {
          "output_type": "stream",
          "name": "stdout",
          "text": [
            "{23: 2, 2342: 1, 1: 5, 32: 1, 21: 1, 11: 1, 12: 2, 3: 2, 432: 1, 5: 1, 34: 1, 435: 1, 66: 1, 2323: 1}\n"
          ]
        }
      ]
    },
    {
      "cell_type": "code",
      "source": [],
      "metadata": {
        "id": "vPDH-d85XsJf"
      },
      "execution_count": null,
      "outputs": []
    },
    {
      "cell_type": "code",
      "source": [],
      "metadata": {
        "id": "fwjKRZX6XsMR"
      },
      "execution_count": null,
      "outputs": []
    }
  ]
}