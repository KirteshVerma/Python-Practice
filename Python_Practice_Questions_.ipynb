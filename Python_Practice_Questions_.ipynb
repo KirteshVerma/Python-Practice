{
  "nbformat": 4,
  "nbformat_minor": 0,
  "metadata": {
    "colab": {
      "provenance": [],
      "collapsed_sections": [],
      "authorship_tag": "ABX9TyPQJ29w1W9IbOPtbZzpPmxA",
      "include_colab_link": true
    },
    "kernelspec": {
      "name": "python3",
      "display_name": "Python 3"
    },
    "language_info": {
      "name": "python"
    }
  },
  "cells": [
    {
      "cell_type": "markdown",
      "metadata": {
        "id": "view-in-github",
        "colab_type": "text"
      },
      "source": [
        "<a href=\"https://colab.research.google.com/github/KirteshVerma/Python-Practice/blob/main/Python_Practice_Questions_.ipynb\" target=\"_parent\"><img src=\"https://colab.research.google.com/assets/colab-badge.svg\" alt=\"Open In Colab\"/></a>"
      ]
    },
    {
      "cell_type": "markdown",
      "source": [
        "## **Prime Number**"
      ],
      "metadata": {
        "id": "fq5kjM3x0_yz"
      }
    },
    {
      "cell_type": "code",
      "execution_count": 14,
      "metadata": {
        "id": "A2i6Q1AfvFQc",
        "colab": {
          "base_uri": "https://localhost:8080/"
        },
        "outputId": "66aa71bc-5e79-4c33-ce15-302fa43f75dd"
      },
      "outputs": [
        {
          "output_type": "stream",
          "name": "stdout",
          "text": [
            "2 3 5 7 11 13 17 19 23 29 31 37 41 43 47 53 59 61 67 71 73 79 83 "
          ]
        }
      ],
      "source": [
        "# Python programm to display all the prime numbers withing an interval\n",
        "\n",
        "lower = 2\n",
        "upper = 88\n",
        "\n",
        "for i in range(lower, upper):\n",
        "  if i>1:\n",
        "    for j in range(2,i):\n",
        "      if i%j ==0:\n",
        "        break\n",
        "    else:\n",
        "      print(i, end = ' ')\n",
        "\n",
        "\n",
        "\n"
      ]
    },
    {
      "cell_type": "code",
      "source": [
        "# to print the total numbers of prime number within a range\n",
        "lower = int(input())\n",
        "upper = int(input())\n",
        "listt = []\n",
        "\n",
        "for i in range(lower, upper):\n",
        "  if i>1:\n",
        "    for j in range(2,i):\n",
        "      if i%j ==0:\n",
        "        break\n",
        "    else:\n",
        "      listt.append(i)\n",
        "print('The total number of prime number that exist between the given range are:',len(listt))\n"
      ],
      "metadata": {
        "colab": {
          "base_uri": "https://localhost:8080/"
        },
        "id": "O_5DWOCpzum9",
        "outputId": "24d5597b-c6b2-4228-f9f2-9290664651c4"
      },
      "execution_count": 21,
      "outputs": [
        {
          "output_type": "stream",
          "name": "stdout",
          "text": [
            "2\n",
            "22\n",
            "The total number of prime number that exist between the given range are:  8\n"
          ]
        }
      ]
    },
    {
      "cell_type": "code",
      "source": [
        "# programm to tell whether the number is prime or not\n",
        "\n",
        "a = 234\n",
        "\n",
        "if a > 1:\n",
        "  for i in range(2,a):\n",
        "    if a%i==0:\n",
        "      print('{} is not a Prime Number'.format(a))\n",
        "      break\n",
        "    else:\n",
        "      print('{a} is a Prime Number'.format(a))\n",
        "else:\n",
        "  print('{} is not a Prime number'.format(a))"
      ],
      "metadata": {
        "colab": {
          "base_uri": "https://localhost:8080/"
        },
        "id": "X17lMz-1zupq",
        "outputId": "08dc525a-881e-4941-bd1d-57246597ca06"
      },
      "execution_count": 25,
      "outputs": [
        {
          "output_type": "stream",
          "name": "stdout",
          "text": [
            "234 is not a Prime Number\n"
          ]
        }
      ]
    },
    {
      "cell_type": "code",
      "source": [],
      "metadata": {
        "id": "b-0Xv0ADzusm"
      },
      "execution_count": null,
      "outputs": []
    },
    {
      "cell_type": "code",
      "source": [],
      "metadata": {
        "id": "kQt9PF6NzuvV"
      },
      "execution_count": null,
      "outputs": []
    },
    {
      "cell_type": "code",
      "source": [],
      "metadata": {
        "id": "EKyhDAUpzuyD"
      },
      "execution_count": null,
      "outputs": []
    },
    {
      "cell_type": "code",
      "source": [],
      "metadata": {
        "id": "XcHKZU3Ezu0w"
      },
      "execution_count": null,
      "outputs": []
    },
    {
      "cell_type": "code",
      "source": [],
      "metadata": {
        "id": "x918TWimzu3F"
      },
      "execution_count": null,
      "outputs": []
    },
    {
      "cell_type": "code",
      "source": [],
      "metadata": {
        "id": "1xYUJJnwvWe-"
      },
      "execution_count": null,
      "outputs": []
    },
    {
      "cell_type": "code",
      "source": [],
      "metadata": {
        "id": "sTUcySy4vWjW"
      },
      "execution_count": null,
      "outputs": []
    },
    {
      "cell_type": "code",
      "source": [],
      "metadata": {
        "id": "46hOyt6CvWmt"
      },
      "execution_count": null,
      "outputs": []
    },
    {
      "cell_type": "code",
      "source": [],
      "metadata": {
        "id": "8Ec5UblbvWqc"
      },
      "execution_count": null,
      "outputs": []
    },
    {
      "cell_type": "code",
      "source": [],
      "metadata": {
        "id": "JCbK8f3avWus"
      },
      "execution_count": null,
      "outputs": []
    }
  ]
}